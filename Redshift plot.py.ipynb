{
 "cells": [
  {
   "cell_type": "code",
   "execution_count": 1,
   "metadata": {
    "collapsed": true
   },
   "outputs": [],
   "source": [
    "# we are going to graph age of the universe based on the redshift\n",
    "\n",
    "#import numpy as np\n",
    "#from matplotlib import pyplot as plt\n",
    "#import pandas as pn\n",
    "#yarray = np.random.seed(.1,9.)\n",
    "\n",
    "#array[.167, .246, .39, .8, .686, 1.11, 1.36, 2, 3, 5,9])\n",
    "\n",
    "\n",
    "\n"
   ]
  },
  {
   "cell_type": "code",
   "execution_count": 2,
   "metadata": {},
   "outputs": [],
   "source": [
    "#xarray = np.arange(0,13)\n",
    "#xarray"
   ]
  },
  {
   "cell_type": "code",
   "execution_count": 13,
   "metadata": {},
   "outputs": [],
   "source": [
    "import matplotlib.pyplot as plt\n",
    "plt.plot([1,2,3,4,5,6,7,8,9,10,11], [.167, .246, .39, .8, .686, 1.11, 1.36, 2, 3, 5,9])\n",
    "plt.ylabel('redshift')\n",
    "plt.xlabel('universe age')\n",
    "#plt.show()\n",
    "plt.savefig('plot.png')"
   ]
  },
  {
   "cell_type": "code",
   "execution_count": null,
   "metadata": {
    "collapsed": true
   },
   "outputs": [],
   "source": []
  }
 ],
 "metadata": {
  "kernelspec": {
   "display_name": "Python 2",
   "language": "python",
   "name": "python2"
  },
  "language_info": {
   "codemirror_mode": {
    "name": "ipython",
    "version": 2
   },
   "file_extension": ".py",
   "mimetype": "text/x-python",
   "name": "python",
   "nbconvert_exporter": "python",
   "pygments_lexer": "ipython2",
   "version": "2.7.14"
  }
 },
 "nbformat": 4,
 "nbformat_minor": 2
}
